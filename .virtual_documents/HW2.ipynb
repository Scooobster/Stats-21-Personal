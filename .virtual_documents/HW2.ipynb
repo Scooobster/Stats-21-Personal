














import time


cur_time = time.time()
cur_time
print(cur_time // 86400)






def now():
    cur_time = int(time.time())
    # 86400 seconds in a day
    days = cur_time // 86400
    cur_time = cur_time % 86400
    # 3600 seconds in an hour
    hours = cur_time // 3600
    cur_time = cur_time % 3600
    # 60 seconds in a minute
    minutes = cur_time // 60
    seconds = cur_time % 60
    print('Current time is: {}:{}:{}. It has been {} since the epoch.'.format(hours,minutes,seconds,days))


now()








def ack(m, n):
    if m == 0:
        return n + 1
    if n == 0:
        return ack(m - 1, 1)
    n2 = ack(m, n - 1)
    return ack(m - 1, n2)


# test case, should be 61
ack(3, 3)


# test case, should be 125
ack(3, 4)





def is_power(a, b):
    if a == b:
        return True

    temp = b

    while (temp <= a):
        if temp == a:
            return True
        temp *= b

    return False


is_power(1024, 2)


is_power(6561, 3)


is_power(4374, 3)


is_power(768, 2)





def gcd(a, b):
    if b == 0:
        return a
    else:
        return gcd(b, a % b)


gcd(21, 7)


gcd(42, 28)


gcd(105, 140)








# write your code here
def mysqrt(a):
    x = a/2
    while True:
        y = (x + a/x) / 2
        if y == x:
            return x
            break
        x = y
import numpy as np
import math
def test_square_root(start, end):
    print('  a         my_sqrt(a)        math.sqrt(a)                  diff')
    print('________________________________________________________________')
    for i in np.linspace(start,end, num = int(end - start + 1)):
        print('{:3} {:18} {:19} {:21}'.format(i, mysqrt(i), math.sqrt(i), abs(mysqrt(i)-math.sqrt(i))))


mysqrt(3)


# test code, do not modify:
test_square_root(1.0, 9.0)


test_square_root(30, 35)








fin = open("words.txt")
for line in fin:
    if len(line) > 20:
        print(line)





def has_no_e(text):
    return text.count('e') == 0


has_no_e("hello")


has_no_e("quit")





fin = open("words.txt")
with_e = 0
total = 0
for line in fin:
    total += 1
    if line.count('e') == 0:
        with_e += 1
print('{} words without the letter e, which is {}% of the total words'.format(with_e, with_e*100/total))








def nested_sum(t):
    total = 0
    for x in t:
        if isinstance(x, list):
            total += nested_sum(x)
        else:
            total += x
    return total


t = [1, 2]
nested_sum(t)


t = [[1, 2], [3], [4, 5, 6]]
nested_sum(t)


x = [[1, 2, [3]], 4, 5, 6, [7], 8]
nested_sum(x)


t = [[[1, 2, [3]], [4, [5, 6, [7]], 8]]]
nested_sum(t)





def cumsum(t):
    for i in range(1,len(t)):
        t[i] += t[i-1]
    return (t)


cumsum([1, 2, 3, 4])


cumsum(range(12))
# the exercise says the function takes a list. The range is not a list


type(range(12))





def is_anagram(word1, word2):
    word1 = word1.replace(" ","").lower()
    word2 = word2.replace(" ","").lower()
    word1dict = {}
    word2dict = {}
    for i in word1:
        if i in word1dict.keys():
            word1dict[i] += 1
        else: 
            word1dict[i] = 1
    for j in word2:
        if j in word2dict.keys():
            word2dict[j] += 1
        else: 
            word2dict[j] = 1
    return word2dict==word1dict


is_anagram("hello", "o hell")


is_anagram("dormitory" , "dirty room")


is_anagram("dormitory" , "dirty rooms")


is_anagram("astronomers" , "moon starers")





def has_duplicates(t):
    count = {}
    for i in t:
        if i in count:
            count[i] += 1
        else:
            count[i] = 1
            
    return max(count.values()) > 1


has_duplicates(['a','b','c'])


has_duplicates(['a','b','b','c'])


has_duplicates(['a','b','c','a'])





# Use this function. No need to rewrite it.
def make_word_list():
    """Reads lines from a file and builds a list."""
    t = []
    fin = open('words.txt')
    for line in fin:
        word = line.strip()
        t.append(word)
    return t

t = make_word_list()


# define this function
def in_bisect(word_list, word):
    low = 0
    high = len(word_list) -1

    while low <= high:
        mid = (low + high) // 2
        if word_list[mid] < word:
            low = mid + 1
        elif word_list[mid] > word:
            high = mid -1
        else:
            return True
    
    return False
        


in_bisect(t, "hello")


in_bisect(t, "xyz")





word_list_shortened = [i for i in t if len(i)>6]
pairs = [i for i in word_list_shortened if in_bisect(word_list_shortened, i[::-1])]


print(pairs)
