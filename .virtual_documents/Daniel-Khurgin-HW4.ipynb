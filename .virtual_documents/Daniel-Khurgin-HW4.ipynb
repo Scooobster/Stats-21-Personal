





### Import the necessary libraries
import pandas as pd
import matplotlib.pyplot as plt


### Please note that the following data set is from the US in the 20th century.
### Gender proportions for occupations and ages are thus reflective of that era.
### Import the dataset from this address.
### https://raw.githubusercontent.com/justmarkham/DAT8/master/data/u.user
### Assign it to a variable called users and use the 'user_id' as index
users = pd.read_csv('https://raw.githubusercontent.com/justmarkham/DAT8/master/data/u.user', 
                      sep='|', index_col='user_id')


# Problem 1. Print the data frame. By default,
# Pandas prints the first few rows and the last few rows.
# This exercise has already been done for you
users


# Problem 2. How many observations and columns are in the data?
# Run the necessary command that will output the answer.
print(users.shape[0])
print(users.shape[1])


# Problem 3. How many different occupations there are in this dataset?
users.occupation.nunique()


# Problem 4. What is the most frequent occupation?
users.occupation.mode()


# Problem 5. Discover what is the mean age per occupation.
# Sort the results and find the 3 occupations with the lowest mean age and the 3 with the highest
mean_age_per_occupation = users.groupby('occupation')['age'].mean().sort_values()

lowest = mean_age_per_occupation.head(3)
highest = mean_age_per_occupation.tail(3)

print(lowest)
print(highest)


# Problem 6. Find the proportion of males by occupation and sort it from the most to the least
prop_male = users.groupby('occupation')['gender'].apply(lambda x: (x == 'M').mean()).sort_values(ascending = False)

print(prop_male)


# Problem 7. For each occupation, calculate the minimum and maximum ages
# See groupby and agg() to perform multiple aggregate functions at once

print(users.groupby('occupation')['age'].agg(['min', 'max']))


# Problem 8. For each combination of occupation and gender, calculate the mean age.
# Arrange the results in a table so each row is an occupation, and you have a 
# column of the average male age and another column with the average female age.
# Sort the resulting table by Female mean age from least to greatest

mean_age = users.groupby(['occupation', 'gender'])['age'].mean().unstack().sort_values(by = 'F')
print(mean_age)


# Problem 9. For each occupation find the count of women and men
# Arrange the results in a table so each row is an occupation, similar to above
count_gender_by_occ = users.groupby('occupation')['gender'].value_counts().unstack()
print(count_gender_by_occ)


# Problem 10. Turn the counts above into proportions. e.g administrator 0.455696 0.544304
# Arrange results in increasing order of proportion men
sum_gender_by_occ = count_gender_by_occ.sum(axis=1)

prop_gender_per_occ = count_gender_by_occ.div(sum_gender_by_occ, axis=0)
print(prop_gender_per_occ)


# Create a stacked barchart showing the results above
prop_gender_per_occ.plot(kind='bar', stacked = True)
plt.show()


# Extract the first digit of each zip code 
# and create a new column called 'region' that maps the
# first digit of the zip to new values using this dictionary:
d = {'0': 'New England',
'1': 'Mid-Atlantic',
'2': 'Central East Coast',
'3': 'The South',
'4': 'Midwest',
'5': 'Northern Great Plains',
'6': 'Central Great Plains',
'7': 'Southern Central',
'8': 'Mountain Desert',
'9': 'West Coast'} 


# print the first 5 rows of the result
# postal codes that begin with a letter are actually Canadian but are missing the last digit. These rows can be ignored.


users['region'] = users['zip_code'].astype(str).str[0].map(d)
print(users.head(5))


# for the occuptation 'retired', find the mean age of each region
retirees = users[users['occupation'] == 'retired']

mean_age_per_region_for_retirees = retirees.groupby('region')['age'].mean()
print(mean_age_per_region_for_retirees)



