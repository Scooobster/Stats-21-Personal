

















# A
print("Hello World"





# corrected:
print("Hello World")


# B
print("Hello")
    print("Goodbye")





# B
print("Hello")
print("Goodbye")


# C
x = 10
if x > 8
    print("x is greater than 8")





# C
x = 10
if x > 8:
    print("x is greater than 8")


# D
if x = 10:
    print("x is equal to 10")





# D
if x == 10:
    print("x is equal to 10")


# E
x = 5
if x == 5:
print("x is five")





# E
x = 5
if x == 5:
    print("x is five")


# F
l = [1, 2, 50, 10]
l = sort(l)





# F
l = [1, 2, 50, 10]
l = sorted(l)
print(l)








42*60+42





10/1.61





(42*60+42)/(10/1.61)
#412.482 seconds, which is 6 minutes 52.482 seconds



((10/1.61)/(42*60+42))*3600
# 8.727653570337614 miles per hour








import math
def sphere_volume(r):
    volume = r*r*r * math.pi * 4/3
    print(volume)


sphere_volume(5)
sphere_volume(15)





def wholesale_cost(books):
    cost = 24.95*.6*books + 3 + 0.75*(books-1)
    print(cost)


wholesale_cost(60)
wholesale_cost(10)





def run_time(miles, warm_pace, fast_pace):
    totaltime = warm_pace*2 + fast_pace*(miles-2)
    minutes = totaltime//60
    seconds = totaltime % 60
    print(str(minutes) + ':' + str(seconds))


run_time(miles = 5, warm_pace = 495, fast_pace = 432)





warm_pace = "8:15"
int(warm_pace.split(':')[0]) * 60 + int(warm_pace.split(':')[1])


def run_time(miles, warm_pace, fast_pace):
    warm_pace = int(warm_pace.split(':')[0]) * 60 + int(warm_pace.split(':')[1])
    fast_pace = int(fast_pace.split(':')[0]) * 60 + int(fast_pace.split(':')[1])
    totaltime = warm_pace*2 + fast_pace*(miles-2)
    minutes = totaltime//60
    seconds = totaltime % 60
    if seconds < 10:
        seconds = "0" + str(seconds)
    print(str(minutes) + ':' + str(seconds))


run_time(miles = 5, warm_pace = "8:15", fast_pace = "7:12")





import math

def polar(real, imaginary):
    r = math.sqrt(real^2 + imaginary^2)
    theta = math.atan(imaginary/real)
    print(r, theta)



polar(1, 1)
polar( -2, -3)
polar(4, 2)








# write your code here
def insert_into(listname, index, iterable):
    first = listname[:index]
    last = listname[index:]
    combine = first + iterable + last
    print(combine)





# do not modify. We will check this result for grading
l = [0,'a','b','c',4,5,6]
i = ['hello', 'there']
insert_into(l, 3, i)





# write your function here
def first_equals_last(listname):
    if listname[0] == listname[-1] and len(listname) > 1:
        return(True)
    else:
        return(False)


# do not modify. We will check this result for grading
a = [1,2,3]
first_equals_last(a)


# do not modify. We will check this result for grading
b = ['hello','goodbye','hello']
first_equals_last(b)


# do not modify. We will check this result for grading
c  = [1,2,3,'1']
first_equals_last(c)


# do not modify. We will check this result for grading
d = [[1,2],[3,2],[1,2]]
first_equals_last(d)
