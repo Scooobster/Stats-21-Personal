


def twoSum(nums, target):
    matches = {}
    for number in nums:
        match = target - number
        if match in matches:
            return [nums.index(match), nums.index(number, nums.index(match)+1)]
        else:
            matches[number] = True
    return []


nums = [2,7,11,15]
target = 9
twoSum(nums, target)


nums = [3,2,4]
target = 6

twoSum(nums, target)


nums = [3,3]
target = 6

twoSum(nums, target)


nums = [1,6,9,3,7,10,4]
target = 13
twoSum(nums, target)





def isPalindrome(x):
    x_original = x
    reverse = 0
    while (x > 0):
        num = x % 10 #get ones digit
        reverse = reverse * 10 + num # push reverse one digit left and add num
        x = x // 10 # remove ones digit
    if (reverse == x_original):
        return(True)
    else:
        return(False)


isPalindrome(121)


isPalindrome(-121)


isPalindrome(10)


isPalindrome(11)





def romanToInt(s):
    romanMap = [(I,1),
                (V,5),
                (X,10),
                (L,50),
                (C,100),
                (D,500),
                (M,1000)]
    s = list(s)
    
    
