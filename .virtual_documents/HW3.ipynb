











def make_word_dict():
    t = {}
    fin = open('words.txt')
    for line in fin:
        word = line.strip()
        t[word] = 'value'
    return t

word_dict = make_word_dict()


"hello" in word_dict





def has_duplicates(t):
    result = False
    dict = {}
    for i in t:
        if i in dict:
            result = True
            break
        else:
            dict[i] = 1
    return result
    pass


has_duplicates(['a','b','b','c'])


has_duplicates(['a','b','c','a'])





# Rotates a word 'shift' letters up
def rotate(word, shift):
    word = list(word)
    shift_string = [chr((((ord(letter)-97)+shift) % 26) + 97) # ord turns letter to number, -97 brings 'a' to 0, then shift by shift letters, %26 turns capitals to lowercase, then char + 97 turns it back into a letter
                for letter in word] # for every letter in the word
    shifted = ''.join(shift_string) # glues each letter back together
    return(shifted)



def find_rotate_pairs(file):
    word_list = open(file)
    word_list_short = [i for i in word_list if len(i)>4] # keep only words longer than 4 letters

    word_list_short_dict = {} # turn the world list into a dictioary for faster searching
    for line in word_list_short:
        word = line.strip()
        word_list_short_dict[word] = 'value'

    
    rotate_pairs = []
    for word in word_list_short_dict: # for every word in the dictionary
        for i in range(1, 26): #try all 25 shifts
            rotated_word = rotate(word, i) # rotate the whole word
            if rotated_word in word_list_short_dict: # if the now shifted word is in the dictionary
                rotate_pairs.append((word, rotated_word)) # add it to the rotate_pairs list
    return rotate_pairs


find_rotate_pairs('words.txt')





anag_dict = {}
for word in word_dict:
    word_breakdown = tuple(sorted(list(word)))
    if word_breakdown in anag_dict:
        anag_dict[word_breakdown].append(word)
    else:
        anag_dict[word_breakdown] = [word]
for set in anag_dict:
    if len(anag_dict[set]) > 5:
        print(anag_dict[set])





import numpy as np
np.random.seed(1)





b = np.random.randint(1, 101, size = 10)
print(b)





b = b[::-1]
print(b)





c = np.random.normal(loc=100, scale=15, size=1000)

c = np.round(c,decimals = 1)

print(c[1:11])





import scipy

print(scipy.stats.shapiro(c))

# because the p value is greater than 0.05, we cannot reject the null hypothesis that c comes from a normal distribution





mean_c = np.mean(c)
sd_c = np.std(c)

outliers = c[(c > mean_c + 3 * sd_c) | (c < mean_c - 3 * sd_c)]
print(outliers)
print('{} of the valuees are beyond 3 sd from the mean.'.format(len(outliers)/len(c)))





I3 = np.eye(3)
print(I3)





X = np.arange(1,101)
X = X.reshape(10,10)
print(X)





Y = X.copy()


squares = [1,4,9,16,25,36,49,64,81,100]

Y[~np.isin(Y, squares)] = 0

print(Y)





checkers = np.tile(np.array([[1,0],[0,1]]),(4,4))

print(checkers)





# do not modify
f_temp  = np.arange(70,100).reshape((5,6))

np.round((f_temp-32)*(5/9),decimals = 1)





# do not modify
np.random.seed(100)
x = np.random.randint(100,size = 30).reshape(10,3)


column_means = np.mean(x, axis = 0)
column_stds = np.std(x, axis = 0)

z = (x - column_means)/column_stds
z





# do not modify
np.random.seed(100)
x = np.random.randint(100,size = 30).reshape(10,3)


y = np.round(10 * (x - np.min(x, axis=0)) / (np.max(x, axis=0) - np.min(x, axis=0)), decimals = 2)

y





# do not modify
np.random.seed(100)
x = np.random.randint(100,size = 12).reshape(4,3).astype('float')
row = np.array([1, 2, 3])
col = np.array([2, 1, 0])
x[row, col] = np.nan


x = np.nan_to_num(x, nan=0)
x
